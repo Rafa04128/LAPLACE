{
 "cells": [
  {
   "cell_type": "code",
   "execution_count": 1,
   "metadata": {},
   "outputs": [],
   "source": [
    "from langdetect import detect"
   ]
  },
  {
   "cell_type": "code",
   "execution_count": null,
   "metadata": {},
   "outputs": [],
   "source": [
    "from langdetect import detect\n",
    "\n",
    "def identify_language(text):\n",
    "    try:\n",
    "        language = detect(text)\n",
    "        return language\n",
    "    except:\n",
    "        # Handle exceptions (e.g., short or unreadable text)\n",
    "        return \"unknown\"\n",
    "\n",
    "# Example text data\n",
    "text_data = \"\"\"\n",
    "Bonjour tout le monde! Comment ça va?\n",
    "Ich liebe es, verschiedene Sprachen zu lernen.\n",
    "¡Hola a todos! ¿Cómo están?\n",
    "\"\"\"\n",
    "\n",
    "# Identify language of text data\n",
    "language = identify_language(text_data)\n",
    "print(\"Detected language:\", language)\n"
   ]
  },
  {
   "cell_type": "markdown",
   "metadata": {},
   "source": []
  },
  {
   "cell_type": "code",
   "execution_count": 2,
   "metadata": {},
   "outputs": [
    {
     "name": "stdout",
     "output_type": "stream",
     "text": [
      "Sample: Bonjour tout le monde! Comment ça va?\n",
      "Language: fr\n",
      "------------------------------\n",
      "Sample: Ich liebe es, verschiedene Sprachen zu lernen.\n",
      "Language: de\n",
      "------------------------------\n",
      "Sample: ¡Hola a todos! ¿Cómo están?\n",
      "Language: es\n",
      "------------------------------\n"
     ]
    }
   ],
   "source": [
    "from langdetect import detect\n",
    "\n",
    "def identify_language(text):\n",
    "    try:\n",
    "        language = detect(text)\n",
    "        return language\n",
    "    except:\n",
    "        # Handle exceptions (e.g., short or unreadable text)\n",
    "        return \"unknown\"\n",
    "\n",
    "def preprocess_and_label_data(data):\n",
    "    labeled_data = []\n",
    "    for sample in data:\n",
    "        language = identify_language(sample)\n",
    "        labeled_data.append((sample, language))\n",
    "    return labeled_data\n",
    "\n",
    "# Example text data\n",
    "text_data = [\n",
    "    \"Bonjour tout le monde! Comment ça va?\",\n",
    "    \"Ich liebe es, verschiedene Sprachen zu lernen.\",\n",
    "    \"¡Hola a todos! ¿Cómo están?\"\n",
    "]\n",
    "\n",
    "# Preprocess and label text data\n",
    "labeled_text_data = preprocess_and_label_data(text_data)\n",
    "\n",
    "# Print labeled text data\n",
    "for sample, language in labeled_text_data:\n",
    "    print(\"Sample:\", sample)\n",
    "    print(\"Language:\", language)\n",
    "    print(\"-\" * 30)\n"
   ]
  },
  {
   "cell_type": "code",
   "execution_count": 6,
   "metadata": {},
   "outputs": [
    {
     "ename": "FileNotFoundError",
     "evalue": "[WinError 3] El sistema no puede encontrar la ruta especificada: 'saved_files'",
     "output_type": "error",
     "traceback": [
      "\u001b[1;31m---------------------------------------------------------------------------\u001b[0m",
      "\u001b[1;31mFileNotFoundError\u001b[0m                         Traceback (most recent call last)",
      "Cell \u001b[1;32mIn[6], line 39\u001b[0m\n\u001b[0;32m     36\u001b[0m output_directory \u001b[38;5;241m=\u001b[39m \u001b[38;5;124mr\u001b[39m\u001b[38;5;124m\"\u001b[39m\u001b[38;5;124mdata\u001b[39m\u001b[38;5;124m\\\u001b[39m\u001b[38;5;124msaved\u001b[39m\u001b[38;5;124m\"\u001b[39m\n\u001b[0;32m     38\u001b[0m \u001b[38;5;66;03m# Preprocess and label text files\u001b[39;00m\n\u001b[1;32m---> 39\u001b[0m labeled_text_data \u001b[38;5;241m=\u001b[39m \u001b[43mpreprocess_and_label_files\u001b[49m\u001b[43m(\u001b[49m\u001b[43minput_directory\u001b[49m\u001b[43m)\u001b[49m\n\u001b[0;32m     41\u001b[0m \u001b[38;5;66;03m# Save labeled data\u001b[39;00m\n\u001b[0;32m     42\u001b[0m save_labeled_data(labeled_text_data, output_directory)\n",
      "Cell \u001b[1;32mIn[6], line 14\u001b[0m, in \u001b[0;36mpreprocess_and_label_files\u001b[1;34m(directory)\u001b[0m\n\u001b[0;32m     12\u001b[0m \u001b[38;5;28;01mdef\u001b[39;00m \u001b[38;5;21mpreprocess_and_label_files\u001b[39m(directory):\n\u001b[0;32m     13\u001b[0m     labeled_data \u001b[38;5;241m=\u001b[39m []\n\u001b[1;32m---> 14\u001b[0m     \u001b[38;5;28;01mfor\u001b[39;00m filename \u001b[38;5;129;01min\u001b[39;00m \u001b[43mos\u001b[49m\u001b[38;5;241;43m.\u001b[39;49m\u001b[43mlistdir\u001b[49m\u001b[43m(\u001b[49m\u001b[43mdirectory\u001b[49m\u001b[43m)\u001b[49m:\n\u001b[0;32m     15\u001b[0m         \u001b[38;5;28;01mif\u001b[39;00m filename\u001b[38;5;241m.\u001b[39mendswith(\u001b[38;5;124m\"\u001b[39m\u001b[38;5;124m.txt\u001b[39m\u001b[38;5;124m\"\u001b[39m):\n\u001b[0;32m     16\u001b[0m             file_path \u001b[38;5;241m=\u001b[39m os\u001b[38;5;241m.\u001b[39mpath\u001b[38;5;241m.\u001b[39mjoin(directory, filename)\n",
      "\u001b[1;31mFileNotFoundError\u001b[0m: [WinError 3] El sistema no puede encontrar la ruta especificada: 'saved_files'"
     ]
    }
   ],
   "source": [
    "import os\n",
    "from langdetect import detect\n",
    "\n",
    "def identify_language(text):\n",
    "    try:\n",
    "        language = detect(text)\n",
    "        return language\n",
    "    except:\n",
    "        # Handle exceptions (e.g., short or unreadable text)\n",
    "        return \"unknown\"\n",
    "\n",
    "def preprocess_and_label_files(directory):\n",
    "    labeled_data = []\n",
    "    for filename in os.listdir(directory):\n",
    "        if filename.endswith(\".txt\"):\n",
    "            file_path = os.path.join(directory, filename)\n",
    "            with open(file_path, \"r\", encoding=\"utf-8\") as file:\n",
    "                text = file.read()\n",
    "                language = identify_language(text)\n",
    "                labeled_data.append((text, language))\n",
    "    return labeled_data\n",
    "\n",
    "def save_labeled_data(labeled_data, output_directory):\n",
    "    if not os.path.exists(output_directory):\n",
    "        os.makedirs(output_directory)\n",
    "    for idx, (text, language) in enumerate(labeled_data):\n",
    "        output_filename = f\"labeled_text_{idx}_{language}.txt\"\n",
    "        output_path = os.path.join(output_directory, output_filename)\n",
    "        with open(output_path, \"w\", encoding=\"utf-8\") as output_file:\n",
    "            output_file.write(text)\n",
    "\n",
    "# Specify the directory containing the text files\n",
    "input_directory = r\"C:\\Users\\rafa0\\Desktop\\pj\\laplace\\LAPLACE\\saved_files\"\n",
    "\n",
    "# Specify the directory where labeled data will be saved\n",
    "output_directory = r\"C:\\Users\\rafa0\\Desktop\\pj\\laplace\\LAPLACE\\data\\saved\"\n",
    "\n",
    "# Preprocess and label text files\n",
    "labeled_text_data = preprocess_and_label_files(input_directory)\n",
    "\n",
    "# Save labeled data\n",
    "save_labeled_data(labeled_text_data, output_directory)\n",
    "\n",
    "print(\"Processing and labeling complete.\")\n"
   ]
  },
  {
   "cell_type": "code",
   "execution_count": null,
   "metadata": {},
   "outputs": [],
   "source": []
  }
 ],
 "metadata": {
  "kernelspec": {
   "display_name": "venv",
   "language": "python",
   "name": "python3"
  },
  "language_info": {
   "codemirror_mode": {
    "name": "ipython",
    "version": 3
   },
   "file_extension": ".py",
   "mimetype": "text/x-python",
   "name": "python",
   "nbconvert_exporter": "python",
   "pygments_lexer": "ipython3",
   "version": "3.12.2"
  }
 },
 "nbformat": 4,
 "nbformat_minor": 2
}
