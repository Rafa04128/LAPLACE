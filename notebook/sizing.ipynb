{
 "cells": [
  {
   "cell_type": "code",
   "execution_count": 2,
   "metadata": {},
   "outputs": [
    {
     "name": "stdout",
     "output_type": "stream",
     "text": [
      "---\n",
      "length: 296362\n",
      "---\n",
      "[83, 116, 101, 102, 97, 110, 32, 72, 111, 117]\n",
      "length: 297556\n"
     ]
    }
   ],
   "source": [
    "file_path = r\"\\C:\\Users\\rafa0\\Desktop\\pj\\laplace\\saved_files\\output.txt\"  # Specify the path to your output.txt file\n",
    "\n",
    "# Read the content of the file\n",
    "with open(file_path, \"r\", encoding=\"utf-8\") as file:\n",
    "    text = file.read()\n",
    "\n",
    "# Process the text\n",
    "tokens = text.encode(\"utf-8\")  # raw bytes\n",
    "tokens = list(map(int, tokens))  # convert to a list of integers in range 0..255 for convenience\n",
    "\n",
    "# Output the results\n",
    "print('---')\n",
    "#print(text)\n",
    "print(\"length:\", len(text))\n",
    "print('---')\n",
    "print(tokens[:10])\n",
    "print(\"length:\", len(tokens))\n"
   ]
  },
  {
   "cell_type": "code",
   "execution_count": null,
   "metadata": {},
   "outputs": [],
   "source": [
    "import os\n",
    "\n",
    "# Get the current directory of the script\n",
    "script_directory = os.path.dirname(os.path.abspath(__file__))\n",
    "\n",
    "# Construct the path to the data folder relative to the script directory\n",
    "directory_path = os.path.join(script_directory, \"..\", \"data\", \"books\")\n",
    "\n",
    "# Convert the path to the correct format for the current operating system\n",
    "directory_path = os.path.normpath(directory_path)\n"
   ]
  }
 ],
 "metadata": {
  "kernelspec": {
   "display_name": "venv",
   "language": "python",
   "name": "python3"
  },
  "language_info": {
   "codemirror_mode": {
    "name": "ipython",
    "version": 3
   },
   "file_extension": ".py",
   "mimetype": "text/x-python",
   "name": "python",
   "nbconvert_exporter": "python",
   "pygments_lexer": "ipython3",
   "version": "3.12.2"
  }
 },
 "nbformat": 4,
 "nbformat_minor": 2
}
