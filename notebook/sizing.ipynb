{
 "cells": [
  {
   "cell_type": "code",
   "execution_count": null,
   "metadata": {},
   "outputs": [],
   "source": []
  },
  {
   "cell_type": "code",
   "execution_count": 11,
   "metadata": {},
   "outputs": [
    {
     "name": "stdout",
     "output_type": "stream",
     "text": [
      "---\n",
      "Total number of tokens: 19139561\n",
      "---\n",
      "First 10 tokens: [83, 116, 101, 102, 97, 110, 47, 117, 110, 105]\n",
      "Token frequency: [(32, 2700220), (101, 1636662), (116, 1155447), (97, 1118359), (111, 992029), (110, 914323), (105, 893988), (115, 854448), (114, 779063), (104, 625640)]\n"
     ]
    }
   ],
   "source": [
    "import os\n",
    "from collections import Counter\n",
    "\n",
    "def get_tokens_from_files(directory):\n",
    "    total_tokens = []\n",
    "    for dirpath, dirnames, filenames in os.walk(directory):\n",
    "        for filename in filenames:\n",
    "            if filename.endswith(\".txt\"):\n",
    "                filepath = os.path.join(dirpath, filename)\n",
    "                with open(filepath, \"r\", encoding=\"utf-8\") as file:\n",
    "                    text = file.read()\n",
    "                tokens = text.encode(\"utf-8\")\n",
    "                tokens = list(map(int, tokens))\n",
    "                total_tokens.extend(tokens)\n",
    "    return total_tokens\n",
    "\n",
    "# Example usage:\n",
    "directory_path = r\"C:\\Users\\rafa0\\Desktop\\pj\\laplace\\LAPLACE\\saved_files\"\n",
    "all_tokens = get_tokens_from_files(directory_path)\n",
    "\n",
    "print('---')\n",
    "print(\"Total number of tokens:\", len(all_tokens))\n",
    "print('---')\n",
    "print(\"First 10 tokens:\", all_tokens[:10])\n",
    "print(\"Token frequency:\", Counter(all_tokens).most_common(10))\n"
   ]
  },
  {
   "cell_type": "code",
   "execution_count": null,
   "metadata": {},
   "outputs": [],
   "source": [
    "import os\n",
    "\n",
    "# Get the current directory of the script\n",
    "script_directory = os.path.dirname(os.path.abspath(__file__))\n",
    "\n",
    "# Construct the path to the data folder relative to the script directory\n",
    "directory_path = os.path.join(script_directory, \"..\", \"data\", \"books\")\n",
    "\n",
    "# Convert the path to the correct format for the current operating system\n",
    "directory_path = os.path.normpath(directory_path)\n"
   ]
  },
  {
   "cell_type": "code",
   "execution_count": 10,
   "metadata": {},
   "outputs": [
    {
     "name": "stdout",
     "output_type": "stream",
     "text": [
      "Total size of directory 'C:\\Users\\rafa0\\Desktop\\pj\\laplace\\LAPLACE\\saved_files':\n",
      "In bytes: 19431655 bytes\n",
      "In kilobytes: 18976.23 KB\n",
      "In megabytes: 18.53 MB\n",
      "\n",
      "Individual file sizes:\n",
      "C:\\Users\\rafa0\\Desktop\\pj\\laplace\\LAPLACE\\saved_files\\Algorithmic_Mathematics.txt: 316626 bytes (309.21 KB)\n",
      "C:\\Users\\rafa0\\Desktop\\pj\\laplace\\LAPLACE\\saved_files\\Algorithm_Design.txt: 0 bytes (0.00 KB)\n",
      "C:\\Users\\rafa0\\Desktop\\pj\\laplace\\LAPLACE\\saved_files\\Att_Is_All_you_Need.txt: 40443 bytes (39.50 KB)\n",
      "C:\\Users\\rafa0\\Desktop\\pj\\laplace\\LAPLACE\\saved_files\\Brocas_brain_carl_sagan.txt: 24196 bytes (23.63 KB)\n",
      "C:\\Users\\rafa0\\Desktop\\pj\\laplace\\LAPLACE\\saved_files\\Brothers_Karamazov.txt: 2055828 bytes (2007.64 KB)\n",
      "C:\\Users\\rafa0\\Desktop\\pj\\laplace\\LAPLACE\\saved_files\\client_Side_Data_Storage.txt: 166473 bytes (162.57 KB)\n",
      "C:\\Users\\rafa0\\Desktop\\pj\\laplace\\LAPLACE\\saved_files\\Crime_and_Punishment_T.txt: 1233074 bytes (1204.17 KB)\n",
      "C:\\Users\\rafa0\\Desktop\\pj\\laplace\\LAPLACE\\saved_files\\Crystallography_of_Hyperbolic_Lattices.txt: 107009 bytes (104.50 KB)\n",
      "C:\\Users\\rafa0\\Desktop\\pj\\laplace\\LAPLACE\\saved_files\\database_Design.txt: 324937 bytes (317.32 KB)\n",
      "C:\\Users\\rafa0\\Desktop\\pj\\laplace\\LAPLACE\\saved_files\\Data_Mining.txt: 1625924 bytes (1587.82 KB)\n",
      "C:\\Users\\rafa0\\Desktop\\pj\\laplace\\LAPLACE\\saved_files\\De Cero a Uno Como Inventar - Peter Thiel VL.txt: 302567 bytes (295.48 KB)\n",
      "C:\\Users\\rafa0\\Desktop\\pj\\laplace\\LAPLACE\\saved_files\\Euclids_Elements.txt: 2455844 bytes (2398.29 KB)\n",
      "C:\\Users\\rafa0\\Desktop\\pj\\laplace\\LAPLACE\\saved_files\\Expert_Data_visualization.txt: 506375 bytes (494.51 KB)\n",
      "C:\\Users\\rafa0\\Desktop\\pj\\laplace\\LAPLACE\\saved_files\\Group_Invariant_Quantum_Machine_Learning.txt: 114747 bytes (112.06 KB)\n",
      "C:\\Users\\rafa0\\Desktop\\pj\\laplace\\LAPLACE\\saved_files\\herman-melville-moby-dick.txt: 1123134 bytes (1096.81 KB)\n",
      "C:\\Users\\rafa0\\Desktop\\pj\\laplace\\LAPLACE\\saved_files\\Herman_Melville_Moby_Dick.txt: 1349177 bytes (1317.56 KB)\n",
      "C:\\Users\\rafa0\\Desktop\\pj\\laplace\\LAPLACE\\saved_files\\Isaac-Newton-Principia-English-1846.txt: 1286544 bytes (1256.39 KB)\n",
      "C:\\Users\\rafa0\\Desktop\\pj\\laplace\\LAPLACE\\saved_files\\Large_language_models_in _bioinformatics_applications_and_perspectives.txt: 124519 bytes (121.60 KB)\n",
      "C:\\Users\\rafa0\\Desktop\\pj\\laplace\\LAPLACE\\saved_files\\Machines_Logic_and_Quantum_Physics.txt: 39819 bytes (38.89 KB)\n",
      "C:\\Users\\rafa0\\Desktop\\pj\\laplace\\LAPLACE\\saved_files\\Mamba_Linear_Time_Sequence.txt: 163346 bytes (159.52 KB)\n",
      "C:\\Users\\rafa0\\Desktop\\pj\\laplace\\LAPLACE\\saved_files\\on_The_Electrodynamics_of_moving_bodies_Albert_Einstein.txt: 53456 bytes (52.20 KB)\n",
      "C:\\Users\\rafa0\\Desktop\\pj\\laplace\\LAPLACE\\saved_files\\on_The_Electrodynamics_of_moving_bodies_at_low_velocities.txt: 65830 bytes (64.29 KB)\n",
      "C:\\Users\\rafa0\\Desktop\\pj\\laplace\\LAPLACE\\saved_files\\Peterthiel.txt: 302567 bytes (295.48 KB)\n",
      "C:\\Users\\rafa0\\Desktop\\pj\\laplace\\LAPLACE\\saved_files\\Principles_Of_Distributed_DataBaseSystems.txt: 2154799 bytes (2104.30 KB)\n",
      "C:\\Users\\rafa0\\Desktop\\pj\\laplace\\LAPLACE\\saved_files\\SynHIN_Generating_Synthetic_Heterogeneous_Information.txt: 39126 bytes (38.21 KB)\n",
      "C:\\Users\\rafa0\\Desktop\\pj\\laplace\\LAPLACE\\saved_files\\The_Fabric_of_Reality.txt: 823121 bytes (803.83 KB)\n",
      "C:\\Users\\rafa0\\Desktop\\pj\\laplace\\LAPLACE\\saved_files\\the_hitchhiker_s_guide_to_the_galaxy.txt: 289760 bytes (282.97 KB)\n",
      "C:\\Users\\rafa0\\Desktop\\pj\\laplace\\LAPLACE\\saved_files\\The_Redshift_Evolution_of_the_M-M_Relation for JWST_SMB.txt: 37979 bytes (37.09 KB)\n",
      "C:\\Users\\rafa0\\Desktop\\pj\\laplace\\LAPLACE\\saved_files\\The_Three_Musketeers.txt: 1399743 bytes (1366.94 KB)\n",
      "C:\\Users\\rafa0\\Desktop\\pj\\laplace\\LAPLACE\\saved_files\\TSawyer.txt: 402233 bytes (392.81 KB)\n",
      "C:\\Users\\rafa0\\Desktop\\pj\\laplace\\LAPLACE\\saved_files\\Universal_Training_Algo_Quantum_DL.txt: 502459 bytes (490.68 KB)\n"
     ]
    }
   ],
   "source": [
    "import os\n",
    "\n",
    "def get_individual_file_sizes(directory):\n",
    "    total_size = 0\n",
    "    file_sizes = {}\n",
    "    for dirpath, dirnames, filenames in os.walk(directory):\n",
    "        for filename in filenames:\n",
    "            if filename.endswith(\".txt\"):\n",
    "                filepath = os.path.join(dirpath, filename)\n",
    "                file_size = os.path.getsize(filepath)\n",
    "                file_sizes[filepath] = file_size\n",
    "                total_size += file_size\n",
    "    return file_sizes, total_size\n",
    "\n",
    "# Example usage:\n",
    "directory_path = r\"C:\\Users\\rafa0\\Desktop\\pj\\laplace\\LAPLACE\\saved_files\"\n",
    "file_sizes, total_size = get_individual_file_sizes(directory_path)\n",
    "\n",
    "print(f\"Total size of directory '{directory_path}':\")\n",
    "print(f\"In bytes: {total_size} bytes\")\n",
    "print(f\"In kilobytes: {total_size / 1024:.2f} KB\")\n",
    "print(f\"In megabytes: {total_size / (1024 * 1024):.2f} MB\")\n",
    "\n",
    "print(\"\\nIndividual file sizes:\")\n",
    "for filepath, size in file_sizes.items():\n",
    "    print(f\"{filepath}: {size} bytes ({size / 1024:.2f} KB)\")"
   ]
  },
  {
   "cell_type": "code",
   "execution_count": 12,
   "metadata": {},
   "outputs": [],
   "source": [
    "def delete_empty_files(directory):\n",
    "    for dirpath, dirnames, filenames in os.walk(directory):\n",
    "        for filename in filenames:\n",
    "            if filename.endswith(\".txt\"):\n",
    "                filepath = os.path.join(dirpath, filename)\n",
    "                if os.path.getsize(filepath) == 0:\n",
    "                    os.remove(filepath)\n",
    "                    print(f\"Deleted empty file: {filepath}\")"
   ]
  },
  {
   "cell_type": "code",
   "execution_count": 13,
   "metadata": {},
   "outputs": [
    {
     "name": "stdout",
     "output_type": "stream",
     "text": [
      "\n",
      "Deleting empty files...\n",
      "Deleted empty file: C:\\Users\\rafa0\\Desktop\\pj\\laplace\\LAPLACE\\saved_files\\Algorithm_Design.txt\n"
     ]
    }
   ],
   "source": [
    "print(\"\\nDeleting empty files...\")\n",
    "deleted_files = delete_empty_files(directory_path)\n",
    "\n",
    "if deleted_files:\n",
    "    print(\"\\nList of deleted files:\")\n",
    "    for file_path in deleted_files:\n",
    "        print(file_path)\n",
    "else:\n",
    "    print(\"\\nNo empty files found.\")"
   ]
  },
  {
   "cell_type": "code",
   "execution_count": null,
   "metadata": {},
   "outputs": [],
   "source": []
  }
 ],
 "metadata": {
  "kernelspec": {
   "display_name": "venv",
   "language": "python",
   "name": "python3"
  },
  "language_info": {
   "codemirror_mode": {
    "name": "ipython",
    "version": 3
   },
   "file_extension": ".py",
   "mimetype": "text/x-python",
   "name": "python",
   "nbconvert_exporter": "python",
   "pygments_lexer": "ipython3",
   "version": "3.12.2"
  }
 },
 "nbformat": 4,
 "nbformat_minor": 2
}
