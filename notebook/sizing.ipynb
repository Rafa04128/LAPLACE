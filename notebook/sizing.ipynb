{
 "cells": [
  {
   "cell_type": "code",
   "execution_count": null,
   "metadata": {},
   "outputs": [],
   "source": []
  },
  {
   "cell_type": "code",
   "execution_count": 2,
   "metadata": {},
   "outputs": [
    {
     "name": "stdout",
     "output_type": "stream",
     "text": [
      "---\n",
      "length: 296362\n",
      "---\n",
      "[83, 116, 101, 102, 97, 110, 32, 72, 111, 117]\n",
      "length: 297556\n"
     ]
    }
   ],
   "source": [
    "file_path = r\"C:\\Users\\rafa0\\Desktop\\pj\\laplace\\LAPLACE\\saved_files\\output.txt\"  # Specify the path to your output.txt file\n",
    "\n",
    "# Read the content of the file\n",
    "with open(file_path, \"r\", encoding=\"utf-8\") as file:\n",
    "    text = file.read()\n",
    "\n",
    "# Process the text\n",
    "tokens = text.encode(\"utf-8\")  # raw bytes\n",
    "tokens = list(map(int, tokens))  # convert to a list of integers in range 0..255 for convenience\n",
    "\n",
    "# Output the results\n",
    "print('---')\n",
    "#print(text)\n",
    "print(\"length:\", len(text))\n",
    "print('---')\n",
    "print(tokens[:10])\n",
    "print(\"length:\", len(tokens))\n"
   ]
  },
  {
   "cell_type": "code",
   "execution_count": null,
   "metadata": {},
   "outputs": [],
   "source": [
    "import os\n",
    "\n",
    "# Get the current directory of the script\n",
    "script_directory = os.path.dirname(os.path.abspath(__file__))\n",
    "\n",
    "# Construct the path to the data folder relative to the script directory\n",
    "directory_path = os.path.join(script_directory, \"..\", \"data\", \"books\")\n",
    "\n",
    "# Convert the path to the correct format for the current operating system\n",
    "directory_path = os.path.normpath(directory_path)\n"
   ]
  },
  {
   "cell_type": "code",
   "execution_count": 5,
   "metadata": {},
   "outputs": [
    {
     "ename": "SyntaxError",
     "evalue": "(unicode error) 'unicodeescape' codec can't decode bytes in position 2-3: truncated \\UXXXXXXXX escape (1121349572.py, line 11)",
     "output_type": "error",
     "traceback": [
      "\u001b[1;36m  Cell \u001b[1;32mIn[5], line 11\u001b[1;36m\u001b[0m\n\u001b[1;33m    directory_path = \"C:\\Users\\rafa0\\Desktop\\pj\\laplace\\LAPLACE\\data\\books\"\u001b[0m\n\u001b[1;37m                     ^\u001b[0m\n\u001b[1;31mSyntaxError\u001b[0m\u001b[1;31m:\u001b[0m (unicode error) 'unicodeescape' codec can't decode bytes in position 2-3: truncated \\UXXXXXXXX escape\n"
     ]
    }
   ],
   "source": [
    "import os\n",
    "def get_directory_size(directory):\n",
    "    total_size = 0\n",
    "    for dirpath, dirnames, filenames in os.walk(directory):\n",
    "        for filename in filenames:\n",
    "            filepath = os.path.join(dirpath, filename)\n",
    "            total_size += os.path.getsize(filepath)\n",
    "    return total_size\n",
    "\n",
    "# Example usage:\n",
    "directory_path = r\"C:\\Users\\rafa0\\Desktop\\pj\\laplace\\LAPLACE\\data\\books\"\n",
    "size_in_bytes = get_directory_size(directory_path)\n",
    "size_in_kb = size_in_bytes / 1024\n",
    "size_in_mb = size_in_kb / 1024\n",
    "\n",
    "print(f\"Total size of directory '{directory_path}':\")\n",
    "print(f\"In bytes: {size_in_bytes} bytes\")\n",
    "print(f\"In kilobytes: {size_in_kb:.2f} KB\")\n",
    "print(f\"In megabytes: {size_in_mb:.2f} MB\")"
   ]
  },
  {
   "cell_type": "code",
   "execution_count": null,
   "metadata": {},
   "outputs": [],
   "source": []
  }
 ],
 "metadata": {
  "kernelspec": {
   "display_name": "venv",
   "language": "python",
   "name": "python3"
  },
  "language_info": {
   "codemirror_mode": {
    "name": "ipython",
    "version": 3
   },
   "file_extension": ".py",
   "mimetype": "text/x-python",
   "name": "python",
   "nbconvert_exporter": "python",
   "pygments_lexer": "ipython3",
   "version": "3.12.2"
  }
 },
 "nbformat": 4,
 "nbformat_minor": 2
}
