{
 "cells": [
  {
   "cell_type": "code",
   "execution_count": null,
   "metadata": {},
   "outputs": [],
   "source": [
    "import os\n",
    "from PyPDF2 import PdfReader"
   ]
  },
  {
   "cell_type": "code",
   "execution_count": null,
   "metadata": {},
   "outputs": [],
   "source": [
    "def extract_text_from_pdf(pdf_file_path):\n",
    "    text = \"\"\n",
    "    with open(pdf_file_path, \"rb\") as file:\n",
    "        pdf_reader = PdfReader(file)\n",
    "        for page in pdf_reader.pages:\n",
    "            text += page.extract_text()\n",
    "    return text\n",
    "\n",
    "def extract_text_from_pdfs_in_directory(directory_path):\n",
    "    text_data = \"\"\n",
    "    for filename in os.listdir(directory_path):\n",
    "        if filename.endswith(\".pdf\"):\n",
    "            pdf_file_path = os.path.join(directory_path, filename)\n",
    "            text_data += extract_text_from_pdf(pdf_file_path)\n",
    "    return text_data\n",
    "\n",
    "def save_text_to_file(text, output_file_path):\n",
    "    with open(output_file_path, \"w\", encoding=\"utf-8\") as file:\n",
    "        file.write(text)"
   ]
  },
  {
   "cell_type": "code",
   "execution_count": null,
   "metadata": {},
   "outputs": [],
   "source": [
    "# Example usage:\n",
    "directory_path = r\"C:\\Users\\LINES\\Desktop\\project\\today\\pdf\"\n",
    "output_file_path = \"output.txt\"\n",
    "text_from_pdfs = extract_text_from_pdfs_in_directory(directory_path)\n",
    "save_text_to_file(text_from_pdfs, output_file_path)"
   ]
  },
  {
   "cell_type": "code",
   "execution_count": null,
   "metadata": {},
   "outputs": [],
   "source": []
  }
 ],
 "metadata": {
  "language_info": {
   "name": "python"
  }
 },
 "nbformat": 4,
 "nbformat_minor": 2
}
